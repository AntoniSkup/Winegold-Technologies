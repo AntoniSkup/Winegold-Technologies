{
 "cells": [
  {
   "cell_type": "code",
   "execution_count": null,
   "id": "93b716ca",
   "metadata": {},
   "outputs": [],
   "source": [
    "pip install box2d"
   ]
  },
  {
   "cell_type": "code",
   "execution_count": 1,
   "id": "6a275ecf",
   "metadata": {},
   "outputs": [],
   "source": [
    "from simple_dqn_keras import Agent"
   ]
  },
  {
   "cell_type": "code",
   "execution_count": 6,
   "id": "763c7113",
   "metadata": {},
   "outputs": [],
   "source": [
    "from IPython import display\n",
    "import matplotlib.pyplot as plt"
   ]
  },
  {
   "cell_type": "code",
   "execution_count": null,
   "id": "7b1d0b46",
   "metadata": {},
   "outputs": [
    {
     "data": {
      "image/png": "[encoded data removed]",
      "text/plain": [
       "<Figure size 432x288 with 1 Axes>"
      ]
     },
     "metadata": {},
     "output_type": "display_data"
    }
   ],
   "source": [
    "import numpy as np\n",
    "from utils import plotLearning\n",
    "import gym\n",
    "\n",
    "\n",
    "if __name__ == '__main__':\n",
    "    env = gym.make('LunarLander-v2')\n",
    "    n_games = 500\n",
    "    agent = Agent(gamma=0.99, epsilon=1.0, alpha=0.0005, input_dims=8,  n_actions=4, mem_size=1000000, batch_size=64, epsilon_end=0.01)\n",
    "    \n",
    "\n",
    "    scores = []\n",
    "    eps_history = []\n",
    "    \n",
    "    for i in range(n_games):\n",
    "        \n",
    "        done = False\n",
    "        score = 0\n",
    "        observation = env.reset()\n",
    "        \n",
    "#         img = plt.imshow(env.render(mode='rgb_array'))\n",
    "\n",
    "        while not done:\n",
    "            action = agent.choose_action(observation)\n",
    "            observation_, reward, done, info = env.step(action)\n",
    "            score += reward\n",
    "            agent.remember(observation, action, reward, observation_, done)\n",
    "            observation = observation_\n",
    "            agent.learn()\n",
    "             \n",
    "#             img.set_data(env.render(mode='rgb_array'))\n",
    "#             plt.axis('off')\n",
    "#             display.display(plt.gcf())\n",
    "#             display.clear_output(wait=True)\n",
    "            \n",
    "        eps_history.append(agent.epsilon)\n",
    "        scores.append(score)\n",
    "        \n",
    "        avg_score = np.mean(scores[max(0, i-100):(i+1)])\n",
    "        print('episode', i, 'score %.2f' % score, 'average score %.2f' % avg_score)\n",
    "        \n",
    "        if i % 10 == 0 and i > 0 :\n",
    "            agent.save_model()\n",
    "    filename = 'lunarlander.png'\n",
    "    x = [i+1 for i in range(n_games)]\n",
    "    plotLearning(x, scores, eps_history, filename)"
   ]
  },
  {
   "cell_type": "code",
   "execution_count": null,
   "id": "2a2d2fcb",
   "metadata": {},
   "outputs": [],
   "source": []
  }
 ],
 "metadata": {
  "kernelspec": {
   "display_name": "Python 3",
   "language": "python",
   "name": "python3"
  },
  "language_info": {
   "codemirror_mode": {
    "name": "ipython",
    "version": 3
   },
   "file_extension": ".py",
   "mimetype": "text/x-python",
   "name": "python",
   "nbconvert_exporter": "python",
   "pygments_lexer": "ipython3",
   "version": "3.8.8"
  }
 },
 "nbformat": 4,
 "nbformat_minor": 5
}
