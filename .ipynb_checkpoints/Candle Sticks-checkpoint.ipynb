{
 "cells": [
  {
   "cell_type": "code",
   "execution_count": 1,
   "id": "6c8bd1cd",
   "metadata": {},
   "outputs": [
    {
     "name": "stdout",
     "output_type": "stream",
     "text": [
      "Requirement already satisfied: nsepy in c:\\users\\antoni\\anaconda3\\lib\\site-packages (0.8)\n",
      "Requirement already satisfied: beautifulsoup4 in c:\\users\\antoni\\anaconda3\\lib\\site-packages (from nsepy) (4.9.3)\n",
      "Requirement already satisfied: pandas in c:\\users\\antoni\\anaconda3\\lib\\site-packages (from nsepy) (1.4.1)\n",
      "Requirement already satisfied: numpy in c:\\users\\antoni\\anaconda3\\lib\\site-packages (from nsepy) (1.22.2)\n",
      "Requirement already satisfied: click in c:\\users\\antoni\\anaconda3\\lib\\site-packages (from nsepy) (7.1.2)\n",
      "Requirement already satisfied: lxml in c:\\users\\antoni\\anaconda3\\lib\\site-packages (from nsepy) (4.6.3)\n",
      "Requirement already satisfied: requests in c:\\users\\antoni\\anaconda3\\lib\\site-packages (from nsepy) (2.27.1)\n",
      "Requirement already satisfied: six in c:\\users\\antoni\\anaconda3\\lib\\site-packages (from nsepy) (1.16.0)\n",
      "Requirement already satisfied: soupsieve>1.2 in c:\\users\\antoni\\anaconda3\\lib\\site-packages (from beautifulsoup4->nsepy) (2.2.1)\n",
      "Requirement already satisfied: pytz>=2020.1 in c:\\users\\antoni\\anaconda3\\lib\\site-packages (from pandas->nsepy) (2021.1)\n",
      "Requirement already satisfied: python-dateutil>=2.8.1 in c:\\users\\antoni\\anaconda3\\lib\\site-packages (from pandas->nsepy) (2.8.1)\n",
      "Requirement already satisfied: charset-normalizer~=2.0.0 in c:\\users\\antoni\\anaconda3\\lib\\site-packages (from requests->nsepy) (2.0.12)\n",
      "Requirement already satisfied: idna<4,>=2.5 in c:\\users\\antoni\\anaconda3\\lib\\site-packages (from requests->nsepy) (3.3)\n",
      "Requirement already satisfied: certifi>=2017.4.17 in c:\\users\\antoni\\anaconda3\\lib\\site-packages (from requests->nsepy) (2021.10.8)\n",
      "Requirement already satisfied: urllib3<1.27,>=1.21.1 in c:\\users\\antoni\\anaconda3\\lib\\site-packages (from requests->nsepy) (1.26.8)\n",
      "Note: you may need to restart the kernel to use updated packages.\n"
     ]
    }
   ],
   "source": [
    "%pip install nsepy "
   ]
  },
  {
   "cell_type": "code",
   "execution_count": 3,
   "id": "fe77a756",
   "metadata": {},
   "outputs": [],
   "source": [
    "from datetime import date\n",
    "from nsepy import get_history\n",
    "import pandas as pd"
   ]
  },
  {
   "cell_type": "code",
   "execution_count": 4,
   "id": "aebfc1ae",
   "metadata": {},
   "outputs": [],
   "source": [
    "#REDO THIS BUT USING ALPHAVANTAGE"
   ]
  },
  {
   "cell_type": "code",
   "execution_count": 5,
   "id": "91604e50",
   "metadata": {},
   "outputs": [],
   "source": [
    "def obtain_data(ticker,start,end):\n",
    "# Enter the start and end dates using the method date(yyyy,m,dd)    \n",
    "    stock=get_history(symbol=ticker,start=start,end=end)\n",
    "    df=stock.copy()\n",
    "    df=df.reset_index()\n",
    "    df=df.drop(['Series','Prev Close','Last','Turnover','%Deliverble','Trades'],axis=1)\n",
    "    df=df.rename({'Open':'open_price','Close':'close_price','High':'high','Low':'low','Volume':'volume'},axis='columns')\n",
    "    df.index=df.Date\n",
    "    return df"
   ]
  },
  {
   "cell_type": "code",
   "execution_count": 6,
   "id": "4341a5b7",
   "metadata": {},
   "outputs": [],
   "source": [
    "import matplotlib.pyplot as plt\n",
    "import numpy as np\n",
    "import pandas as pd"
   ]
  },
  {
   "cell_type": "code",
   "execution_count": 7,
   "id": "3828c9bb",
   "metadata": {},
   "outputs": [],
   "source": [
    "\"\"\"This cell defineds the plot_candles function\"\"\"\n",
    "\n",
    "def plot_candles(pricing, title=None, volume_bars=False, color_function=None, technicals=None):\n",
    "\n",
    "    def default_color(index, open_price, close_price, low, high):\n",
    "        return 'r' if open_price[index] > close_price[index] else 'g'\n",
    "    color_function = color_function or default_color\n",
    "    technicals = technicals or []\n",
    "    open_price = pricing['open_price']\n",
    "    close_price = pricing['close_price']\n",
    "    low = pricing['low']\n",
    "    high = pricing['high']\n",
    "    oc_min = pd.concat([open_price, close_price], axis=1).min(axis=1)\n",
    "    oc_max = pd.concat([open_price, close_price], axis=1).max(axis=1)\n",
    "    \n",
    "    if volume_bars:\n",
    "        fig, (ax1, ax2) = plt.subplots(2, 1, sharex=True, gridspec_kw={'height_ratios': [3,1]},figsize=(7,7))\n",
    "    else:\n",
    "        fig, ax1 = plt.subplots(1, 1)\n",
    "    if title:\n",
    "        ax1.set_title(title)\n",
    "    fig.tight_layout()\n",
    "    x = np.arange(len(pricing))\n",
    "    candle_colors = [color_function(i, open_price, close_price, low, high) for i in x]\n",
    "    candles = ax1.bar(x, oc_max-oc_min, bottom=oc_min, color=candle_colors, linewidth=0)\n",
    "    lines = ax1.vlines(x , low, high, color=candle_colors, linewidth=1)\n",
    "    ax1.xaxis.grid(True)\n",
    "    ax1.yaxis.grid(True)\n",
    "    ax1.xaxis.set_tick_params(which='major', length=3.0, direction='in', top='off')\n",
    "    ax1.set_yticklabels([])\n",
    "    # Assume minute frequency if first two bars are in the same day.\n",
    "    frequency = 'minute' if (pricing.index[1] - pricing.index[0]).days == 0 else 'day'\n",
    "    time_format = '%d-%m-%Y'\n",
    "    if frequency == 'minute':\n",
    "        time_format = '%H:%M'\n",
    "    # Set X axis tick labels.\n",
    "    #plt.xticks(x, [date.strftime(time_format) for date in pricing.index], rotation='vertical')\n",
    "    for indicator in technicals:\n",
    "        ax1.plot(x, indicator)\n",
    "    \n",
    "    if volume_bars:\n",
    "        volume = pricing['volume']\n",
    "        volume_scale = None\n",
    "        scaled_volume = volume\n",
    "        if volume.max() > 1000000:\n",
    "            volume_scale = 'M'\n",
    "            scaled_volume = volume / 1000000\n",
    "        elif volume.max() > 1000:\n",
    "            volume_scale = 'K'\n",
    "            scaled_volume = volume / 1000\n",
    "        ax2.bar(x, scaled_volume, color=candle_colors)\n",
    "        volume_title = 'Volume'\n",
    "        if volume_scale:\n",
    "            volume_title = 'Volume (%s)' % volume_scale\n",
    "        #ax2.set_title(volume_title)\n",
    "        ax2.xaxis.grid(True)\n",
    "        ax2.set_yticklabels([])\n",
    "        ax2.set_xticklabels([])\n",
    "    return fig    "
   ]
  },
  {
   "cell_type": "code",
   "execution_count": null,
   "id": "a6e608c6",
   "metadata": {},
   "outputs": [
    {
     "name": "stderr",
     "output_type": "stream",
     "text": [
      "<ipython-input-7-8536b122d8d6>:19: RuntimeWarning: More than 20 figures have been opened. Figures created through the pyplot interface (`matplotlib.pyplot.figure`) are retained until explicitly closed and may consume too much memory. (To control this warning, see the rcParam `figure.max_open_warning`).\n",
      "  fig, ax1 = plt.subplots(1, 1)\n"
     ]
    }
   ],
   "source": [
    "equities=['ASIANPAINT']\n",
    "for equity in equities :\n",
    "    df_pricing=obtain_data(equity,date(2018,1,1),date(2022,1,1))\n",
    "    df=df_pricing.copy()\n",
    "    df=df.reset_index(drop=True)\n",
    "    n_days=5\n",
    "    fraction_movement=0.037\n",
    "    df['Trend']=None\n",
    "    for i in range(len(df)):\n",
    "        try :\n",
    "            for n in range(n_days): \n",
    "                if i >=28 :\n",
    "                    fig=plot_candles(df_pricing[i-28:i],volume_bars=False)\n",
    "                    fig.savefig('CandleData/UpdatedCandles/{0},{1}.png'.format(df_pricing['close_price'][i],df_pricing['Date'][i]),dpi=70)\n",
    "#                 print('Down',i,n)\n",
    "                break\n",
    "#                 print(\"The date is: \", df_pricing['Date'][i])\n",
    "        except :\n",
    "            print(i)\n",
    "            pass\n"
   ]
  },
  {
   "cell_type": "code",
   "execution_count": null,
   "id": "68acaf48",
   "metadata": {},
   "outputs": [],
   "source": []
  }
 ],
 "metadata": {
  "kernelspec": {
   "display_name": "Python 3",
   "language": "python",
   "name": "python3"
  },
  "language_info": {
   "codemirror_mode": {
    "name": "ipython",
    "version": 3
   },
   "file_extension": ".py",
   "mimetype": "text/x-python",
   "name": "python",
   "nbconvert_exporter": "python",
   "pygments_lexer": "ipython3",
   "version": "3.8.8"
  }
 },
 "nbformat": 4,
 "nbformat_minor": 5
}
