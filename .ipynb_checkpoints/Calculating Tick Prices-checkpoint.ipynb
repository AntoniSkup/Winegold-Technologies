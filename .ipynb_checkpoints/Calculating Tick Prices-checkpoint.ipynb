{
 "cells": [
  {
   "cell_type": "code",
   "execution_count": 7,
   "id": "7c730820",
   "metadata": {},
   "outputs": [
    {
     "name": "stdout",
     "output_type": "stream",
     "text": [
      "3450.0\n"
     ]
    }
   ],
   "source": [
    "import numpy as np\n",
    "\n",
    "def CalculateTickPrice(entry, exit, choice, equity):\n",
    "    profit = 0\n",
    "    if equity == \"SP500\":\n",
    "        if(choice == \"bearish\"):\n",
    "            profit = entry - exit\n",
    "            profit = (profit*4) * 12.50\n",
    "        elif(choice == \"bullish\"):\n",
    "            profit = exit - entry\n",
    "            profit = (profit*4) * 12.50\n",
    "        else: \n",
    "            return 0\n",
    "    return profit\n",
    "trade_profit = CalculateTickPrice(entry=4126, exit=4195, choice=\"bullish\", equity=\"SP500\")\n",
    "print(trade_profit)\n"
   ]
  },
  {
   "cell_type": "code",
   "execution_count": null,
   "id": "5e29d1af",
   "metadata": {},
   "outputs": [],
   "source": [
    "#Maybe I will just set the reward system as the profit made meaning  entry-exit \n",
    "# Yeah and then afterwards we convert it into ticks\n"
   ]
  }
 ],
 "metadata": {
  "kernelspec": {
   "display_name": "Python 3",
   "language": "python",
   "name": "python3"
  },
  "language_info": {
   "codemirror_mode": {
    "name": "ipython",
    "version": 3
   },
   "file_extension": ".py",
   "mimetype": "text/x-python",
   "name": "python",
   "nbconvert_exporter": "python",
   "pygments_lexer": "ipython3",
   "version": "3.8.8"
  }
 },
 "nbformat": 4,
 "nbformat_minor": 5
}
