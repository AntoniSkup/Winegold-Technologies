{
 "cells": [
  {
   "cell_type": "code",
   "execution_count": 1,
   "id": "ed94db29",
   "metadata": {},
   "outputs": [
    {
     "data": {
      "text/plain": [
       "Order({   'asset_class': 'us_equity',\n",
       "    'asset_id': '03fb07bb-5db1-4077-8dea-5d711b272625',\n",
       "    'canceled_at': None,\n",
       "    'client_order_id': '1e95597d-0a61-4b44-9d76-4c7069c299da',\n",
       "    'created_at': '2022-04-30T19:37:20.843827354Z',\n",
       "    'expired_at': None,\n",
       "    'extended_hours': False,\n",
       "    'failed_at': None,\n",
       "    'filled_at': None,\n",
       "    'filled_avg_price': None,\n",
       "    'filled_qty': '0',\n",
       "    'hwm': None,\n",
       "    'id': 'e27761a1-0d7f-4c6a-a460-8f6042416e4c',\n",
       "    'legs': None,\n",
       "    'limit_price': '20.5',\n",
       "    'notional': None,\n",
       "    'order_class': '',\n",
       "    'order_type': 'limit',\n",
       "    'qty': '1',\n",
       "    'replaced_at': None,\n",
       "    'replaced_by': None,\n",
       "    'replaces': None,\n",
       "    'side': 'sell',\n",
       "    'source': None,\n",
       "    'status': 'accepted',\n",
       "    'stop_price': None,\n",
       "    'submitted_at': '2022-04-30T19:37:20.842724905Z',\n",
       "    'symbol': 'AMD',\n",
       "    'time_in_force': 'opg',\n",
       "    'trail_percent': None,\n",
       "    'trail_price': None,\n",
       "    'type': 'limit',\n",
       "    'updated_at': '2022-04-30T19:37:20.843827354Z'})"
      ]
     },
     "execution_count": 1,
     "metadata": {},
     "output_type": "execute_result"
    }
   ],
   "source": [
    "import alpaca_trade_api as tradeapi\n",
    "\n",
    "api = tradeapi.REST()\n",
    "\n",
    "# Submit a market order to buy 1 share of Apple at market price\n",
    "api.submit_order(\n",
    "    symbol='AAPL',\n",
    "    qty=1,\n",
    "    side='buy',\n",
    "    type='market',\n",
    "    time_in_force='gtc'\n",
    ")\n",
    "\n",
    "# Submit a limit order to attempt to sell 1 share of AMD at a\n",
    "# particular price ($20.50) when the market opens\n",
    "api.submit_order(\n",
    "    symbol='AMD',\n",
    "    qty=1,\n",
    "    side='sell',\n",
    "    type='limit',\n",
    "    time_in_force='opg',\n",
    "    limit_price=20.50\n",
    ")"
   ]
  },
  {
   "cell_type": "code",
   "execution_count": null,
   "id": "24415c7d",
   "metadata": {},
   "outputs": [],
   "source": []
  }
 ],
 "metadata": {
  "kernelspec": {
   "display_name": "Python 3",
   "language": "python",
   "name": "python3"
  },
  "language_info": {
   "codemirror_mode": {
    "name": "ipython",
    "version": 3
   },
   "file_extension": ".py",
   "mimetype": "text/x-python",
   "name": "python",
   "nbconvert_exporter": "python",
   "pygments_lexer": "ipython3",
   "version": "3.8.8"
  }
 },
 "nbformat": 4,
 "nbformat_minor": 5
}
