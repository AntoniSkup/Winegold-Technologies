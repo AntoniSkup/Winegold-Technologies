{
 "cells": [
  {
   "cell_type": "code",
   "execution_count": 2,
   "id": "72e73ef2",
   "metadata": {},
   "outputs": [],
   "source": [
    "from agent import Agent \n",
    "from environment import CandleStickEnv"
   ]
  },
  {
   "cell_type": "code",
   "execution_count": 3,
   "id": "a2191e83",
   "metadata": {},
   "outputs": [],
   "source": [
    "from IPython import display\n",
    "import matplotlib.pyplot as plt\n",
    "import matplotlib.image as mpimg"
   ]
  },
  {
   "cell_type": "code",
   "execution_count": 4,
   "id": "c9ed6572",
   "metadata": {},
   "outputs": [
    {
     "name": "stderr",
     "output_type": "stream",
     "text": [
      "c:\\Users\\Antoni\\Anaconda3\\lib\\site-packages\\keras\\optimizer_v2\\adam.py:105: UserWarning: The `lr` argument is deprecated, use `learning_rate` instead.\n",
      "  super(Adam, self).__init__(name, **kwargs)\n"
     ]
    },
    {
     "name": "stdout",
     "output_type": "stream",
     "text": [
      "Day 0--The EQUITY is changing to: ASIANPAINT ----- Total Revenue: 0\n",
      "Day 1--The stock was BOUGHT at price: 985 ----- Total Revenue: 0\n",
      "Day 2--The trade EXITS (Long) at 981 profit: -3.95 ----- Total Revenue: -3.95\n",
      "Day 3--The stock was BOUGHT at price: 982 ----- Total Revenue: -3.95\n",
      "Day 4--The trade EXITS (Long) at 970 profit: -11.8 ----- Total Revenue: -15.75\n",
      "Day 5--No action was taken ----- Total Revenue: -15.75\n",
      "Day 6--No action was taken ----- Total Revenue: -15.75\n",
      "Day 7--No action was taken ----- Total Revenue: -15.75\n",
      "Day 8--The stock was SOLD at price: 1020 ----- Total Revenue: -15.75\n",
      "Day 9--The stock is HELD with action: 2 ----- Total Revenue: -15.75\n",
      "Day 10--The stock is HELD with action: 2 ----- Total Revenue: -15.75\n",
      "Day 11--The stock is HELD with action: 2 ----- Total Revenue: -15.75\n",
      "Day 12--The trade EXITS (short) at 1033 profit: -12.45 ----- Total Revenue: -28.2\n",
      "Day 13--The stock was BOUGHT at price: 1029 ----- Total Revenue: -28.2\n",
      "Day 14--The stock is BOUGHT AGAIN ----- Total Revenue: -28.2\n",
      "Day 15--The stock is BOUGHT AGAIN ----- Total Revenue: -28.2\n",
      "Day 16--The stock is BOUGHT AGAIN ----- Total Revenue: -28.2\n",
      "Day 17--The stock is BOUGHT AGAIN ----- Total Revenue: -28.2\n",
      "Day 18--The stock is HELD with action: 1 ----- Total Revenue: -28.2\n",
      "Day 19--The trade EXITS (Long) at 1030 profit: 7.5 ----- Total Revenue: -20.7\n",
      "Day 20--The stock was SOLD at price: 1071 ----- Total Revenue: -20.7\n",
      "Day 21--The stock is HELD with action: 2 ----- Total Revenue: -20.7\n",
      "Day 22--The trade EXITS (short) at 1088 profit: -16.15 ----- Total Revenue: -36.85\n",
      "Day 23--No action was taken ----- Total Revenue: -36.85\n",
      "Day 24--The stock was SOLD at price: 1080 ----- Total Revenue: -36.85\n",
      "Day 25--The stock is HELD with action: 2 ----- Total Revenue: -36.85\n",
      "Day 26--The stock is HELD with action: 2 ----- Total Revenue: -36.85\n",
      "Day 27--The stock is SOLD AGAIN ----- Total Revenue: -36.85\n",
      "Day 28--The stock is SOLD AGAIN ----- Total Revenue: -36.85\n",
      "Day 29--The stock is SOLD AGAIN ----- Total Revenue: -36.85\n",
      "Day 30--The trade EXITS (short) at 1058 profit: 87.4 ----- Total Revenue: 50.55\n",
      "Day 31--The stock was SOLD at price: 1068 ----- Total Revenue: 50.55\n",
      "Day 32--The stock is SOLD AGAIN ----- Total Revenue: 50.55\n",
      "Day 33--The stock is HELD with action: 2 ----- Total Revenue: 50.55\n",
      "Day 34--The trade EXITS (short) at 1090 profit: -43.5 ----- Total Revenue: 7.05\n",
      "Day 35--The stock was SOLD at price: 1083 ----- Total Revenue: 7.05\n",
      "Day 36--The trade EXITS (short) at 1087 profit: -4.35 ----- Total Revenue: 2.7\n",
      "Day 37--The stock was BOUGHT at price: 1083 ----- Total Revenue: 2.7\n",
      "Day 38--The trade EXITS (Long) at 1059 profit: -23.75 ----- Total Revenue: -21.05\n",
      "Day 39--The stock was SOLD at price: 1072 ----- Total Revenue: -21.05\n",
      "Day 40--The trade EXITS (short) at 1070 profit: 2.05 ----- Total Revenue: -19.0\n",
      "Day 41--The stock was BOUGHT at price: 1078 ----- Total Revenue: -19.0\n",
      "Day 42--The stock is HELD with action: 1 ----- Total Revenue: -19.0\n",
      "Day 43--The stock is HELD with action: 1 ----- Total Revenue: -19.0\n",
      "Day 44--The stock is BOUGHT AGAIN ----- Total Revenue: -19.0\n",
      "Day 45--The stock is BOUGHT AGAIN ----- Total Revenue: -19.0\n",
      "Day 46--The stock is BOUGHT AGAIN ----- Total Revenue: -19.0\n",
      "Day 47--The stock is BOUGHT AGAIN ----- Total Revenue: -19.0\n",
      "Day 48--The stock is BOUGHT AGAIN ----- Total Revenue: -19.0\n",
      "Day 49--The stock is BOUGHT AGAIN ----- Total Revenue: -19.0\n",
      "Day 50--The trade EXITS (Long) at 1105 profit: 189.35 ----- Total Revenue: 170.35\n",
      "Day 51--The stock was SOLD at price: 1120 ----- Total Revenue: 170.35\n",
      "Day 52--The trade EXITS (short) at 1112 profit: 8.35 ----- Total Revenue: 178.7\n",
      "Day 53--No action was taken ----- Total Revenue: 178.7\n",
      "Day 54--No action was taken ----- Total Revenue: 178.7\n",
      "Day 55--The stock was SOLD at price: 1147 ----- Total Revenue: 178.7\n",
      "Day 56--The stock is HELD with action: 2 ----- Total Revenue: 178.7\n",
      "Day 57--The trade EXITS (short) at 1165 profit: -18.5 ----- Total Revenue: 160.2\n",
      "Day 58--No action was taken ----- Total Revenue: 160.2\n",
      "Day 59--No action was taken ----- Total Revenue: 160.2\n",
      "Day 60--The stock was BOUGHT at price: 1133 ----- Total Revenue: 160.2\n",
      "Day 61--The stock is HELD with action: 1 ----- Total Revenue: 160.2\n",
      "Day 62--The trade EXITS (Long) at 1143 profit: 9.9 ----- Total Revenue: 170.1\n",
      "Day 63--No action was taken ----- Total Revenue: 170.1\n",
      "Day 64--No action was taken ----- Total Revenue: 170.1\n",
      "Day 65--The stock was BOUGHT at price: 1123 ----- Total Revenue: 170.1\n",
      "Day 66--The stock is BOUGHT AGAIN ----- Total Revenue: 170.1\n",
      "Day 67--The trade EXITS (Long) at 1099 profit: -48.5 ----- Total Revenue: 121.6\n",
      "Day 68--The stock was BOUGHT at price: 1091 ----- Total Revenue: 121.6\n",
      "Day 69--The trade EXITS (Long) at 1113 profit: 22.0 ----- Total Revenue: 143.6\n",
      "Day 70--No action was taken ----- Total Revenue: 143.6\n",
      "Day 71--No action was taken ----- Total Revenue: 143.6\n",
      "Day 72--The stock was SOLD at price: 1159 ----- Total Revenue: 143.6\n",
      "Day 73--The stock is HELD with action: 2 ----- Total Revenue: 143.6\n",
      "Day 74--The stock is SOLD AGAIN ----- Total Revenue: 143.6\n",
      "Day 75--The trade EXITS (short) at 1164 profit: -9.7 ----- Total Revenue: 133.9\n",
      "Day 76--No action was taken ----- Total Revenue: 133.9\n",
      "Day 77--The stock was BOUGHT at price: 1153 ----- Total Revenue: 133.9\n",
      "Day 78--The stock is HELD with action: 1 ----- Total Revenue: 133.9\n",
      "Day 79--The trade EXITS (Long) at 1143 profit: -9.85 ----- Total Revenue: 124.05\n",
      "Day 80--The stock was BOUGHT at price: 1156 ----- Total Revenue: 124.05\n",
      "Day 81--The stock is HELD with action: 1 ----- Total Revenue: 124.05\n",
      "Day 82--The stock is HELD with action: 1 ----- Total Revenue: 124.05\n",
      "Day 83--The stock is HELD with action: 1 ----- Total Revenue: 124.05\n",
      "Day 84--The trade EXITS (Long) at 1140 profit: -15.45 ----- Total Revenue: 108.6\n",
      "Day 85--The stock was SOLD at price: 1145 ----- Total Revenue: 108.6\n",
      "Day 86--The trade EXITS (short) at 1154 profit: -8.75 ----- Total Revenue: 99.85\n",
      "Day 87--The stock was SOLD at price: 1149 ----- Total Revenue: 99.85\n",
      "Day 88--The trade EXITS (short) at 1155 profit: -5.95 ----- Total Revenue: 93.9\n",
      "Day 89--The stock was SOLD at price: 1163 ----- Total Revenue: 93.9\n",
      "Day 90--The stock is SOLD AGAIN ----- Total Revenue: 93.9\n",
      "Day 91--The stock is HELD with action: 2 ----- Total Revenue: 93.9\n",
      "Day 92--The stock is SOLD AGAIN ----- Total Revenue: 93.9\n",
      "Day 93--The stock is HELD with action: 2 ----- Total Revenue: 93.9\n",
      "Day 94--The stock is SOLD AGAIN ----- Total Revenue: 93.9\n",
      "Day 95--The trade EXITS (short) at 1120 profit: 169.2 ----- Total Revenue: 263.1\n",
      "Day 96--No action was taken ----- Total Revenue: 263.1\n",
      "Day 97--No action was taken ----- Total Revenue: 263.1\n",
      "Day 98--The stock was BOUGHT at price: 1132 ----- Total Revenue: 263.1\n",
      "Day 99--The trade EXITS (Long) at 1115 profit: -16.7 ----- Total Revenue: 246.4\n"
     ]
    }
   ],
   "source": [
    "import numpy as np\n",
    "import gym\n",
    "\n",
    "if __name__ == '__main__':\n",
    "    env = CandleStickEnv()\n",
    "    n_days = 100\n",
    "    score = 0\n",
    "    observation = env.reset()\n",
    "    \n",
    "    done = True\n",
    "\n",
    "    agent = Agent(gamma=0.99, epsilon=1.0, alpha=0.005, input_dims=[200,300,4] , n_actions=3, mem_size=1000, batch_size=64, epsilon_end=0.01)\n",
    "\n",
    "    scores = []\n",
    "    eps_history = []\n",
    "\n",
    "    for i in range(n_days): #TODO is action taken too early?\n",
    "        action = agent.choose_action(observation)\n",
    "        observation_,reward, done, info= env.step(action)\n",
    "        print(f\"Day {i}--{info}\")\n",
    "        scores.append(reward)\n",
    "        agent.remember(observation, action, reward, observation_, done)\n",
    "        observation = observation_\n",
    "        agent.learn()\n",
    "\n",
    "        eps_history.append(agent.epsilon)\n",
    "\n",
    "        if i % 10 == 0 and i > 0 :\n",
    "            agent.save_model()\n",
    "\n",
    "    "
   ]
  },
  {
   "cell_type": "code",
   "execution_count": 3,
   "id": "683903d7",
   "metadata": {},
   "outputs": [
    {
     "data": {
      "text/plain": [
       "array([[[1., 1., 1., 0.],\n",
       "        [1., 1., 1., 0.],\n",
       "        [1., 1., 1., 0.],\n",
       "        ...,\n",
       "        [1., 1., 1., 0.],\n",
       "        [1., 1., 1., 0.],\n",
       "        [1., 1., 1., 0.]],\n",
       "\n",
       "       [[1., 1., 1., 0.],\n",
       "        [1., 1., 1., 0.],\n",
       "        [1., 1., 1., 0.],\n",
       "        ...,\n",
       "        [1., 1., 1., 0.],\n",
       "        [1., 1., 1., 0.],\n",
       "        [1., 1., 1., 0.]],\n",
       "\n",
       "       [[1., 1., 1., 0.],\n",
       "        [1., 1., 1., 0.],\n",
       "        [1., 1., 1., 0.],\n",
       "        ...,\n",
       "        [1., 1., 1., 0.],\n",
       "        [1., 1., 1., 0.],\n",
       "        [1., 1., 1., 0.]],\n",
       "\n",
       "       ...,\n",
       "\n",
       "       [[1., 1., 1., 0.],\n",
       "        [1., 1., 1., 0.],\n",
       "        [1., 1., 1., 0.],\n",
       "        ...,\n",
       "        [1., 1., 1., 0.],\n",
       "        [1., 1., 1., 0.],\n",
       "        [1., 1., 1., 0.]],\n",
       "\n",
       "       [[1., 1., 1., 0.],\n",
       "        [1., 1., 1., 0.],\n",
       "        [1., 1., 1., 0.],\n",
       "        ...,\n",
       "        [1., 1., 1., 0.],\n",
       "        [1., 1., 1., 0.],\n",
       "        [1., 1., 1., 0.]],\n",
       "\n",
       "       [[1., 1., 1., 0.],\n",
       "        [1., 1., 1., 0.],\n",
       "        [1., 1., 1., 0.],\n",
       "        ...,\n",
       "        [1., 1., 1., 0.],\n",
       "        [1., 1., 1., 0.],\n",
       "        [1., 1., 1., 0.]]], dtype=float32)"
      ]
     },
     "execution_count": 3,
     "metadata": {},
     "output_type": "execute_result"
    }
   ],
   "source": [
    "env = CandleStickEnv()\n",
    "env.reset()"
   ]
  },
  {
   "cell_type": "code",
   "execution_count": 4,
   "id": "5b52b9e6",
   "metadata": {},
   "outputs": [],
   "source": [
    "# observation_,reward, info = env.step(1)\n",
    "# imgplot = plt.imshow(observation_)\n",
    "# plt.show()"
   ]
  },
  {
   "cell_type": "code",
   "execution_count": 4,
   "id": "b65d863c",
   "metadata": {},
   "outputs": [
    {
     "name": "stdout",
     "output_type": "stream",
     "text": [
      "Day 1--The EQUITY is changing to: ASIANPAINT ----- Total Revenue: 0\n"
     ]
    }
   ],
   "source": [
    "observation_,reward, done, info= env.step(0)\n",
    "print(f\"Day 1--{info}\")"
   ]
  },
  {
   "cell_type": "code",
   "execution_count": 5,
   "id": "8cf09d24",
   "metadata": {},
   "outputs": [
    {
     "name": "stdout",
     "output_type": "stream",
     "text": [
      "Day 1--The stock was BOUGHT at price: 985 ----- Total Revenue: 0\n"
     ]
    }
   ],
   "source": [
    "observation_,reward, done, info= env.step(1)\n",
    "print(f\"Day 1--{info}\")"
   ]
  },
  {
   "cell_type": "code",
   "execution_count": 6,
   "id": "12c5c390",
   "metadata": {},
   "outputs": [
    {
     "name": "stdout",
     "output_type": "stream",
     "text": [
      "Day 1--The stock is HELD with action: 1 ----- Total Revenue: 0\n"
     ]
    }
   ],
   "source": [
    "observation_,reward, done, info= env.step(0)\n",
    "print(f\"Day 1--{info}\")"
   ]
  },
  {
   "cell_type": "code",
   "execution_count": 7,
   "id": "bc31a942",
   "metadata": {},
   "outputs": [
    {
     "name": "stdout",
     "output_type": "stream",
     "text": [
      "Day 1--The stock is HELD with action: 1 ----- Total Revenue: 0\n"
     ]
    }
   ],
   "source": [
    "observation_,reward, done, info= env.step(0)\n",
    "print(f\"Day 1--{info}\")"
   ]
  },
  {
   "cell_type": "code",
   "execution_count": 8,
   "id": "c2c9cae9",
   "metadata": {},
   "outputs": [
    {
     "name": "stdout",
     "output_type": "stream",
     "text": [
      "Day 1--The trade EXITS (Long) at 970 profit: -14.85 ----- Total Revenue: -14.85\n"
     ]
    },
    {
     "data": {
      "image/png": "[encoded data removed]",
      "text/plain": [
       "<Figure size 432x288 with 1 Axes>"
      ]
     },
     "metadata": {
      "needs_background": "light"
     },
     "output_type": "display_data"
    }
   ],
   "source": [
    "observation_,reward, done, info= env.step(2)\n",
    "print(f\"Day 1--{info}\")\n",
    "imgplot = plt.imshow(observation_)\n",
    "plt.show()"
   ]
  },
  {
   "cell_type": "code",
   "execution_count": 9,
   "id": "608b3d0c",
   "metadata": {},
   "outputs": [
    {
     "name": "stdout",
     "output_type": "stream",
     "text": [
      "Day 1--The stock was SOLD at price: 961 ----- Total Revenue: -14.85\n"
     ]
    }
   ],
   "source": [
    "observation_,reward, done, info= env.step(2)\n",
    "print(f\"Day 1--{info}\")"
   ]
  },
  {
   "cell_type": "code",
   "execution_count": 10,
   "id": "66414b52",
   "metadata": {},
   "outputs": [
    {
     "name": "stdout",
     "output_type": "stream",
     "text": [
      "Day 1--The stock is SOLD AGAIN ----- Total Revenue: -14.85\n"
     ]
    }
   ],
   "source": [
    "observation_,reward, done, info= env.step(2)\n",
    "print(f\"Day 1--{info}\")"
   ]
  },
  {
   "cell_type": "code",
   "execution_count": 11,
   "id": "3994c276",
   "metadata": {},
   "outputs": [
    {
     "name": "stdout",
     "output_type": "stream",
     "text": [
      "Day 1--The trade EXITS (short) at 992 profit: -61.4 ----- Total Revenue: -76.25\n"
     ]
    }
   ],
   "source": [
    "observation_,reward, done, info= env.step(1)\n",
    "print(f\"Day 1--{info}\")"
   ]
  },
  {
   "cell_type": "code",
   "execution_count": 12,
   "id": "c47ad002",
   "metadata": {},
   "outputs": [
    {
     "name": "stdout",
     "output_type": "stream",
     "text": [
      "Day 1--The stock was SOLD at price: 1020 ----- Total Revenue: -76.25\n"
     ]
    }
   ],
   "source": [
    "observation_,reward, done, info= env.step(2)\n",
    "print(f\"Day 1--{info}\")"
   ]
  },
  {
   "cell_type": "code",
   "execution_count": 14,
   "id": "723b4340",
   "metadata": {},
   "outputs": [
    {
     "name": "stdout",
     "output_type": "stream",
     "text": [
      "Day 1--The stock is SOLD AGAIN ----- Total Revenue: -76.25\n"
     ]
    }
   ],
   "source": [
    "observation_,reward, done, info= env.step(2)\n",
    "print(f\"Day 1--{info}\")"
   ]
  },
  {
   "cell_type": "code",
   "execution_count": 15,
   "id": "748aacf1",
   "metadata": {},
   "outputs": [
    {
     "name": "stdout",
     "output_type": "stream",
     "text": [
      "Day 1--The trade EXITS (short) at 1002 profit: 36.7 ----- Total Revenue: -39.55\n"
     ]
    }
   ],
   "source": [
    "observation_,reward, done, info= env.step(1)\n",
    "print(f\"Day 1--{info}\")"
   ]
  },
  {
   "cell_type": "code",
   "execution_count": 13,
   "id": "a3694dca",
   "metadata": {},
   "outputs": [
    {
     "name": "stdout",
     "output_type": "stream",
     "text": [
      "Day 1--The trade EXITS (short) at 1009 profit: 11.3 ----- Total Revenue: -64.95\n"
     ]
    },
    {
     "data": {
      "image/png": "[encoded data removed]",
      "text/plain": [
       "<Figure size 432x288 with 1 Axes>"
      ]
     },
     "metadata": {
      "needs_background": "light"
     },
     "output_type": "display_data"
    }
   ],
   "source": [
    "observation_,reward, done, info= env.step(1)\n",
    "print(f\"Day 1--{info}\")\n",
    "imgplot = plt.imshow(observation_)\n",
    "plt.show()"
   ]
  },
  {
   "cell_type": "code",
   "execution_count": 17,
   "id": "d3123328",
   "metadata": {},
   "outputs": [
    {
     "name": "stdout",
     "output_type": "stream",
     "text": [
      "Day 1--The trade EXITS (Long) at 1033 profit: 8.55 ----- Total Revenue: -31.0\n"
     ]
    },
    {
     "data": {
      "image/png": "[encoded data removed]",
      "text/plain": [
       "<Figure size 432x288 with 1 Axes>"
      ]
     },
     "metadata": {
      "needs_background": "light"
     },
     "output_type": "display_data"
    }
   ],
   "source": [
    "observation_,reward, done, info= env.step(2)\n",
    "print(f\"Day 1--{info}\")\n",
    "imgplot = plt.imshow(observation_)\n",
    "plt.show()"
   ]
  },
  {
   "cell_type": "code",
   "execution_count": null,
   "id": "2251a680",
   "metadata": {},
   "outputs": [],
   "source": []
  }
 ],
 "metadata": {
  "interpreter": {
   "hash": "953dee1a853867001d31f6f09d1363fd202430034b711c7e4c6f74431527cefa"
  },
  "kernelspec": {
   "display_name": "Python 3.8.8 ('base')",
   "language": "python",
   "name": "python3"
  },
  "language_info": {
   "codemirror_mode": {
    "name": "ipython",
    "version": 3
   },
   "file_extension": ".py",
   "mimetype": "text/x-python",
   "name": "python",
   "nbconvert_exporter": "python",
   "pygments_lexer": "ipython3",
   "version": "3.8.8"
  }
 },
 "nbformat": 4,
 "nbformat_minor": 5
}
