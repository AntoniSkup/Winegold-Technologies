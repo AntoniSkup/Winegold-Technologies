{
 "cells": [
  {
   "cell_type": "code",
   "execution_count": 1,
   "id": "72e73ef2",
   "metadata": {},
   "outputs": [],
   "source": [
    "from agent import Agent \n",
    "from environment import CandleStickEnv"
   ]
  },
  {
   "cell_type": "code",
   "execution_count": 2,
   "id": "a2191e83",
   "metadata": {},
   "outputs": [],
   "source": [
    "from IPython import display\n",
    "import matplotlib.pyplot as plt\n",
    "import matplotlib.image as mpimg"
   ]
  },
  {
   "cell_type": "code",
   "execution_count": 3,
   "id": "c9ed6572",
   "metadata": {},
   "outputs": [
    {
     "name": "stderr",
     "output_type": "stream",
     "text": [
      "c:\\Users\\Antoni\\Anaconda3\\lib\\site-packages\\keras\\optimizer_v2\\adam.py:105: UserWarning: The `lr` argument is deprecated, use `learning_rate` instead.\n",
      "  super(Adam, self).__init__(name, **kwargs)\n"
     ]
    },
    {
     "name": "stdout",
     "output_type": "stream",
     "text": [
      "Day 0--The stock was SOLD, profit:8.3 ----- Total Revenue: 8.3\n",
      "Day 1--No action was taken ----- Total Revenue: 8.3\n",
      "Day 2--No action was taken ----- Total Revenue: 8.3\n",
      "Day 3--No action was taken ----- Total Revenue: 8.3\n",
      "Day 4--The stock was SOLD, profit:9.1 ----- Total Revenue: 17.4\n",
      "Day 5--The stock was SOLD, profit:-14.95 ----- Total Revenue: 2.45\n",
      "Day 6--The stock was BOUGHT, profit:15.75 ----- Total Revenue: 18.2\n",
      "Day 7--The stock was SOLD, profit:-28.8 ----- Total Revenue: -10.6\n",
      "Day 8--The stock was BOUGHT, profit:-11.3 ----- Total Revenue: -21.9\n",
      "Day 9--No action was taken ----- Total Revenue: -21.9\n",
      "Day 10--The stock was SOLD, profit:-22.25 ----- Total Revenue: -44.15\n",
      "Day 11--No action was taken ----- Total Revenue: -44.15\n",
      "Day 12--No action was taken ----- Total Revenue: -44.15\n",
      "Day 13--The stock was BOUGHT, profit:-15.05 ----- Total Revenue: -59.2\n",
      "Day 14--The stock was BOUGHT, profit:15.7 ----- Total Revenue: -43.5\n",
      "Day 15--The stock was SOLD, profit:5.45 ----- Total Revenue: -38.05\n",
      "Day 16--No action was taken ----- Total Revenue: -38.05\n",
      "Day 17--No action was taken ----- Total Revenue: -38.05\n",
      "Day 18--The stock was BOUGHT, profit:-0.85 ----- Total Revenue: -38.9\n",
      "Day 19--No action was taken ----- Total Revenue: -38.9\n",
      "Day 20--The stock was BOUGHT, profit:-7.35 ----- Total Revenue: -46.25\n",
      "Day 21--The stock was BOUGHT, profit:23.5 ----- Total Revenue: -22.75\n",
      "Day 22--The stock was SOLD, profit:8.1 ----- Total Revenue: -14.65\n",
      "Day 23--The stock was BOUGHT, profit:0.25 ----- Total Revenue: -14.4\n",
      "Day 24--No action was taken ----- Total Revenue: -14.4\n",
      "Day 25--No action was taken ----- Total Revenue: -14.4\n",
      "Day 26--The stock was BOUGHT, profit:3.75 ----- Total Revenue: -10.65\n",
      "Day 27--The stock was BOUGHT, profit:2.65 ----- Total Revenue: -8.0\n",
      "Day 28--The stock was SOLD, profit:21.35 ----- Total Revenue: 13.35\n",
      "Day 29--The stock was SOLD, profit:-14.95 ----- Total Revenue: -1.6\n",
      "Day 30--The stock was SOLD, profit:-10.25 ----- Total Revenue: -11.85\n",
      "Day 31--No action was taken ----- Total Revenue: -11.85\n",
      "Day 32--The stock was BOUGHT, profit:3.4 ----- Total Revenue: -8.45\n",
      "Day 33--No action was taken ----- Total Revenue: -8.45\n",
      "Day 34--No action was taken ----- Total Revenue: -8.45\n",
      "Day 35--The stock was SOLD, profit:-4.35 ----- Total Revenue: -12.8\n",
      "Day 36--No action was taken ----- Total Revenue: -12.8\n",
      "Day 37--The stock was BOUGHT, profit:-23.75 ----- Total Revenue: -36.55\n",
      "Day 38--The stock was SOLD, profit:-13.3 ----- Total Revenue: -49.85\n",
      "Day 39--No action was taken ----- Total Revenue: -49.85\n",
      "Day 40--The stock was SOLD, profit:-7.85 ----- Total Revenue: -57.7\n",
      "Day 41--The stock was SOLD, profit:18.95 ----- Total Revenue: -38.75\n",
      "Day 42--The stock was SOLD, profit:18.9 ----- Total Revenue: -19.85\n",
      "Day 43--The stock was SOLD, profit:-8.45 ----- Total Revenue: -28.3\n",
      "Day 44--No action was taken ----- Total Revenue: -28.3\n",
      "Day 45--The stock was SOLD, profit:-6.65 ----- Total Revenue: -34.95\n",
      "Day 46--The stock was SOLD, profit:-4.5 ----- Total Revenue: -39.45\n",
      "Day 47--The stock was SOLD, profit:-27.95 ----- Total Revenue: -67.4\n",
      "Day 48--The stock was SOLD, profit:-6.75 ----- Total Revenue: -74.15\n",
      "Day 49--The stock was BOUGHT, profit:0.7 ----- Total Revenue: -73.45\n",
      "Day 50--The stock was BOUGHT, profit:15.1 ----- Total Revenue: -58.35\n",
      "Day 51--The stock was SOLD, profit:8.35 ----- Total Revenue: -50.0\n",
      "Day 52--The stock was BOUGHT, profit:6.8 ----- Total Revenue: -43.2\n",
      "Day 53--The stock was BOUGHT, profit:13.7 ----- Total Revenue: -29.5\n",
      "Day 54--The stock was BOUGHT, profit:14.2 ----- Total Revenue: -15.3\n",
      "Day 55--The stock was SOLD, profit:-20.55 ----- Total Revenue: -35.85\n",
      "Day 56--The stock was SOLD, profit:2.05 ----- Total Revenue: -33.8\n",
      "Day 57--The stock was BOUGHT, profit:-7.0 ----- Total Revenue: -40.8\n",
      "Day 58--No action was taken ----- Total Revenue: -40.8\n",
      "Day 59--The stock was SOLD, profit:33.5 ----- Total Revenue: -7.3\n",
      "Day 60--No action was taken ----- Total Revenue: -7.3\n",
      "Day 61--The stock was SOLD, profit:5.2 ----- Total Revenue: -2.1\n",
      "Day 62--The stock was BOUGHT, profit:12.1 ----- Total Revenue: 10.0\n",
      "Day 63--No action was taken ----- Total Revenue: 10.0\n",
      "Day 64--The stock was BOUGHT, profit:-28.2 ----- Total Revenue: -18.2\n",
      "Day 65--No action was taken ----- Total Revenue: -18.2\n",
      "Day 66--The stock was SOLD, profit:13.65 ----- Total Revenue: -4.55\n"
     ]
    }
   ],
   "source": [
    "import numpy as np\n",
    "import gym\n",
    "\n",
    "if __name__ == '__main__':\n",
    "    env = CandleStickEnv()\n",
    "    n_days = 100\n",
    "    score = 0\n",
    "    observation = env.reset()\n",
    "    \n",
    "    done = True\n",
    "\n",
    "    agent = Agent(gamma=0.99, epsilon=1.0, alpha=0.005, input_dims=[200,300,4] , n_actions=3, mem_size=1000, batch_size=64, epsilon_end=0.01)\n",
    "\n",
    "    scores = []\n",
    "    eps_history = []\n",
    "\n",
    "    for i in range(n_days): #TODO is action taken too early?\n",
    "        action = agent.choose_action(observation)\n",
    "        observation_,reward, info= env.step(action)\n",
    "        print(f\"Day {i}--{info}\")\n",
    "        scores.append(reward)\n",
    "        agent.remember(observation, action, reward, observation_, done)\n",
    "        observation = observation_\n",
    "        agent.learn()\n",
    "\n",
    "        eps_history.append(agent.epsilon)\n",
    "\n",
    "        if i % 10 == 0 and i > 0 :\n",
    "            agent.save_model()\n",
    "\n",
    "    "
   ]
  },
  {
   "cell_type": "code",
   "execution_count": null,
   "id": "5b52b9e6",
   "metadata": {},
   "outputs": [
    {
     "data": {
      "image/png": "[encoded data removed]",
      "text/plain": [
       "<Figure size 432x288 with 1 Axes>"
      ]
     },
     "metadata": {
      "needs_background": "light"
     },
     "output_type": "display_data"
    }
   ],
   "source": [
    "# observation_,reward, info = env.step(1)\n",
    "# imgplot = plt.imshow(observation_)\n",
    "# plt.show()"
   ]
  }
 ],
 "metadata": {
  "interpreter": {
   "hash": "953dee1a853867001d31f6f09d1363fd202430034b711c7e4c6f74431527cefa"
  },
  "kernelspec": {
   "display_name": "Python 3.8.8 ('base')",
   "language": "python",
   "name": "python3"
  },
  "language_info": {
   "codemirror_mode": {
    "name": "ipython",
    "version": 3
   },
   "file_extension": ".py",
   "mimetype": "text/x-python",
   "name": "python",
   "nbconvert_exporter": "python",
   "pygments_lexer": "ipython3",
   "version": "3.8.8"
  }
 },
 "nbformat": 4,
 "nbformat_minor": 5
}
