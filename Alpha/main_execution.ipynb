{
 "cells": [
  {
   "cell_type": "code",
   "execution_count": 1,
   "id": "72e73ef2",
   "metadata": {},
   "outputs": [],
   "source": [
    "from agent import Agent \n",
    "from environment import CandleStickEnv"
   ]
  },
  {
   "cell_type": "code",
   "execution_count": 8,
   "id": "a2191e83",
   "metadata": {},
   "outputs": [],
   "source": [
    "from IPython import display\n",
    "import matplotlib.pyplot as plt\n",
    "import matplotlib.image as mpimg"
   ]
  },
  {
   "cell_type": "code",
   "execution_count": 3,
   "id": "c9ed6572",
   "metadata": {},
   "outputs": [
    {
     "name": "stdout",
     "output_type": "stream",
     "text": [
      "[[[1. 1. 1. 0.]\n",
      "  [1. 1. 1. 0.]\n",
      "  [1. 1. 1. 0.]\n",
      "  ...\n",
      "  [1. 1. 1. 0.]\n",
      "  [1. 1. 1. 0.]\n",
      "  [1. 1. 1. 0.]]\n",
      "\n",
      " [[1. 1. 1. 0.]\n",
      "  [1. 1. 1. 0.]\n",
      "  [1. 1. 1. 0.]\n",
      "  ...\n",
      "  [1. 1. 1. 0.]\n",
      "  [1. 1. 1. 0.]\n",
      "  [1. 1. 1. 0.]]\n",
      "\n",
      " [[1. 1. 1. 0.]\n",
      "  [1. 1. 1. 0.]\n",
      "  [1. 1. 1. 0.]\n",
      "  ...\n",
      "  [1. 1. 1. 0.]\n",
      "  [1. 1. 1. 0.]\n",
      "  [1. 1. 1. 0.]]\n",
      "\n",
      " ...\n",
      "\n",
      " [[1. 1. 1. 0.]\n",
      "  [1. 1. 1. 0.]\n",
      "  [1. 1. 1. 0.]\n",
      "  ...\n",
      "  [1. 1. 1. 0.]\n",
      "  [1. 1. 1. 0.]\n",
      "  [1. 1. 1. 0.]]\n",
      "\n",
      " [[1. 1. 1. 0.]\n",
      "  [1. 1. 1. 0.]\n",
      "  [1. 1. 1. 0.]\n",
      "  ...\n",
      "  [1. 1. 1. 0.]\n",
      "  [1. 1. 1. 0.]\n",
      "  [1. 1. 1. 0.]]\n",
      "\n",
      " [[1. 1. 1. 0.]\n",
      "  [1. 1. 1. 0.]\n",
      "  [1. 1. 1. 0.]\n",
      "  ...\n",
      "  [1. 1. 1. 0.]\n",
      "  [1. 1. 1. 0.]\n",
      "  [1. 1. 1. 0.]]]\n"
     ]
    }
   ],
   "source": [
    "import numpy as np\n",
    "import gym\n",
    "\n",
    "if __name__ == '__main__':\n",
    "    env = CandleStickEnv()\n",
    "    n_days = 5000\n",
    "    score = 0\n",
    "    observation = env.reset()\n",
    "    \n",
    "\n",
    "\n",
    "    agent = Agent(gamma=0.99, epsilon=1.0, alpha=0.005, input_dims=[300,200] , n_actions=3, mem_size=1000, batch_size=64, epsilon_end=0.01)\n",
    "\n",
    "    scores = []\n",
    "    eps_history = []\n",
    "\n",
    "    for i in range(n_days):\n",
    "        action = agent.choose_action(observation)\n",
    "        observation_,reward, info = env.step(action)\n",
    "        scores.append(reward)\n",
    "        agent.remember(observation, action, reward, observation_)\n",
    "        observation = observation_\n",
    "        agent.learn()\n",
    "\n",
    "        eps_history.append(agent.epsilon)\n",
    "\n",
    "        if i % 10 == 0 and i > 0 :\n",
    "            agent.save_model()\n",
    "\n",
    "    "
   ]
  },
  {
   "cell_type": "code",
   "execution_count": 6,
   "id": "e95dec11",
   "metadata": {},
   "outputs": [
    {
     "data": {
      "text/plain": [
       "array([[[1., 1., 1., 0.],\n",
       "        [1., 1., 1., 0.],\n",
       "        [1., 1., 1., 0.],\n",
       "        ...,\n",
       "        [1., 1., 1., 0.],\n",
       "        [1., 1., 1., 0.],\n",
       "        [1., 1., 1., 0.]],\n",
       "\n",
       "       [[1., 1., 1., 0.],\n",
       "        [1., 1., 1., 0.],\n",
       "        [1., 1., 1., 0.],\n",
       "        ...,\n",
       "        [1., 1., 1., 0.],\n",
       "        [1., 1., 1., 0.],\n",
       "        [1., 1., 1., 0.]],\n",
       "\n",
       "       [[1., 1., 1., 0.],\n",
       "        [1., 1., 1., 0.],\n",
       "        [1., 1., 1., 0.],\n",
       "        ...,\n",
       "        [1., 1., 1., 0.],\n",
       "        [1., 1., 1., 0.],\n",
       "        [1., 1., 1., 0.]],\n",
       "\n",
       "       ...,\n",
       "\n",
       "       [[1., 1., 1., 0.],\n",
       "        [1., 1., 1., 0.],\n",
       "        [1., 1., 1., 0.],\n",
       "        ...,\n",
       "        [1., 1., 1., 0.],\n",
       "        [1., 1., 1., 0.],\n",
       "        [1., 1., 1., 0.]],\n",
       "\n",
       "       [[1., 1., 1., 0.],\n",
       "        [1., 1., 1., 0.],\n",
       "        [1., 1., 1., 0.],\n",
       "        ...,\n",
       "        [1., 1., 1., 0.],\n",
       "        [1., 1., 1., 0.],\n",
       "        [1., 1., 1., 0.]],\n",
       "\n",
       "       [[1., 1., 1., 0.],\n",
       "        [1., 1., 1., 0.],\n",
       "        [1., 1., 1., 0.],\n",
       "        ...,\n",
       "        [1., 1., 1., 0.],\n",
       "        [1., 1., 1., 0.],\n",
       "        [1., 1., 1., 0.]]], dtype=float32)"
      ]
     },
     "execution_count": 6,
     "metadata": {},
     "output_type": "execute_result"
    }
   ],
   "source": [
    "env.reset()"
   ]
  },
  {
   "cell_type": "code",
   "execution_count": 11,
   "id": "5b52b9e6",
   "metadata": {},
   "outputs": [
    {
     "data": {
      "image/png": "[encoded data removed]",
      "text/plain": [
       "<Figure size 432x288 with 1 Axes>"
      ]
     },
     "metadata": {
      "needs_background": "light"
     },
     "output_type": "display_data"
    }
   ],
   "source": [
    "observation_,reward, info = env.step(1)\n",
    "imgplot = plt.imshow(observation_)\n",
    "plt.show()"
   ]
  },
  {
   "cell_type": "code",
   "execution_count": 12,
   "id": "07475c95",
   "metadata": {},
   "outputs": [
    {
     "data": {
      "image/png": "[encoded data removed]",
      "text/plain": [
       "<Figure size 432x288 with 1 Axes>"
      ]
     },
     "metadata": {
      "needs_background": "light"
     },
     "output_type": "display_data"
    }
   ],
   "source": [
    "observation_,reward, info = env.step(1)\n",
    "imgplot = plt.imshow(observation_)\n",
    "plt.show()"
   ]
  },
  {
   "cell_type": "code",
   "execution_count": 13,
   "id": "0c727f2f",
   "metadata": {},
   "outputs": [
    {
     "data": {
      "image/png": "[encoded data removed]",
      "text/plain": [
       "<Figure size 432x288 with 1 Axes>"
      ]
     },
     "metadata": {
      "needs_background": "light"
     },
     "output_type": "display_data"
    }
   ],
   "source": [
    "observation_,reward, info = env.step(1)\n",
    "imgplot = plt.imshow(observation_)\n",
    "plt.show()"
   ]
  },
  {
   "cell_type": "code",
   "execution_count": null,
   "id": "34e75fca",
   "metadata": {},
   "outputs": [],
   "source": []
  }
 ],
 "metadata": {
  "interpreter": {
   "hash": "953dee1a853867001d31f6f09d1363fd202430034b711c7e4c6f74431527cefa"
  },
  "kernelspec": {
   "display_name": "Python 3.8.8 ('base')",
   "language": "python",
   "name": "python3"
  },
  "language_info": {
   "codemirror_mode": {
    "name": "ipython",
    "version": 3
   },
   "file_extension": ".py",
   "mimetype": "text/x-python",
   "name": "python",
   "nbconvert_exporter": "python",
   "pygments_lexer": "ipython3",
   "version": "3.8.8"
  }
 },
 "nbformat": 4,
 "nbformat_minor": 5
}
