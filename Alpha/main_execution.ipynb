{
 "cells": [
  {
   "cell_type": "code",
   "execution_count": 1,
   "id": "72e73ef2",
   "metadata": {},
   "outputs": [],
   "source": [
    "from agent import Agent \n",
    "from environment import CandleStickEnv"
   ]
  },
  {
   "cell_type": "code",
   "execution_count": 2,
   "id": "a2191e83",
   "metadata": {},
   "outputs": [],
   "source": [
    "from IPython import display\n",
    "import matplotlib.pyplot as plt\n",
    "import matplotlib.image as mpimg"
   ]
  },
  {
   "cell_type": "code",
   "execution_count": 6,
   "id": "c9ed6572",
   "metadata": {},
   "outputs": [
    {
     "name": "stderr",
     "output_type": "stream",
     "text": [
      "c:\\Users\\Antoni\\Anaconda3\\lib\\site-packages\\keras\\optimizer_v2\\adam.py:105: UserWarning: The `lr` argument is deprecated, use `learning_rate` instead.\n",
      "  super(Adam, self).__init__(name, **kwargs)\n"
     ]
    },
    {
     "name": "stdout",
     "output_type": "stream",
     "text": [
      "Day 0--The EQUITY is changing to: ASIANPAINT ----- Total Revenue: 0\n",
      "Day 1--The stock was BOUGHT, profit:-8.3 ----- Total Revenue: -8.3\n",
      "Day 2--The stock was SOLD, profit:3.95 ----- Total Revenue: -4.35\n",
      "Day 3--The stock was BOUGHT, profit:0.9 ----- Total Revenue: -3.45\n",
      "Day 4--The stock was BOUGHT, profit:-11.8 ----- Total Revenue: -15.25\n",
      "Day 5--The stock was SOLD, profit:9.1 ----- Total Revenue: -6.15\n",
      "Day 6--The stock was SOLD, profit:-14.95 ----- Total Revenue: -21.1\n",
      "Day 7--No action was taken ----- Total Revenue: -21.1\n",
      "Day 8--The stock was BOUGHT, profit:28.8 ----- Total Revenue: 7.7\n",
      "Day 9--The stock was SOLD, profit:11.3 ----- Total Revenue: 19.0\n",
      "Day 10--No action was taken ----- Total Revenue: 19.0\n",
      "Day 11--The stock was SOLD, profit:-22.25 ----- Total Revenue: -3.25\n",
      "Day 12--The stock was BOUGHT, profit:8.55 ----- Total Revenue: 5.3\n",
      "Day 13--No action was taken ----- Total Revenue: 5.3\n",
      "Day 14--No action was taken ----- Total Revenue: 5.3\n",
      "Day 15--The stock was SOLD, profit:-15.7 ----- Total Revenue: -10.4\n",
      "Day 16--No action was taken ----- Total Revenue: -10.4\n",
      "Day 17--No action was taken ----- Total Revenue: -10.4\n",
      "Day 18--The stock was BOUGHT, profit:8.55 ----- Total Revenue: -1.85\n",
      "Day 19--The stock was SOLD, profit:0.85 ----- Total Revenue: -1.0\n",
      "Day 20--No action was taken ----- Total Revenue: -1.0\n",
      "Day 21--The stock was BOUGHT, profit:-7.35 ----- Total Revenue: -8.35\n",
      "Day 22--The stock was SOLD, profit:-23.5 ----- Total Revenue: -31.85\n",
      "Day 23--The stock was SOLD, profit:8.1 ----- Total Revenue: -23.75\n",
      "Day 24--The stock was BOUGHT, profit:0.25 ----- Total Revenue: -23.5\n",
      "Day 25--The stock was BOUGHT, profit:-11.0 ----- Total Revenue: -34.5\n",
      "Day 26--No action was taken ----- Total Revenue: -34.5\n",
      "Day 27--The stock was SOLD, profit:-3.75 ----- Total Revenue: -38.25\n",
      "Day 28--No action was taken ----- Total Revenue: -38.25\n",
      "Day 29--The stock was SOLD, profit:21.35 ----- Total Revenue: -16.9\n",
      "Day 30--No action was taken ----- Total Revenue: -16.9\n",
      "Day 31--The stock was SOLD, profit:-10.25 ----- Total Revenue: -27.15\n",
      "Day 32--No action was taken ----- Total Revenue: -27.15\n",
      "Day 33--No action was taken ----- Total Revenue: -27.15\n",
      "Day 34--The stock was SOLD, profit:-16.35 ----- Total Revenue: -43.5\n",
      "Day 35--The stock was SOLD, profit:7.3 ----- Total Revenue: -36.2\n",
      "Day 36--The stock was BOUGHT, profit:4.35 ----- Total Revenue: -31.85\n",
      "Day 37--The stock was BOUGHT, profit:-3.95 ----- Total Revenue: -35.8\n",
      "Day 38--The stock was SOLD, profit:23.75 ----- Total Revenue: -12.05\n",
      "Day 39--No action was taken ----- Total Revenue: -12.05\n",
      "Day 40--The stock was SOLD, profit:2.05 ----- Total Revenue: -10.0\n",
      "Day 41--No action was taken ----- Total Revenue: -10.0\n",
      "Day 42--No action was taken ----- Total Revenue: -10.0\n",
      "Day 43--No action was taken ----- Total Revenue: -10.0\n",
      "Day 44--The stock was BOUGHT, profit:8.45 ----- Total Revenue: -1.55\n",
      "Day 45--The stock was BOUGHT, profit:9.9 ----- Total Revenue: 8.35\n",
      "Day 46--The stock was SOLD, profit:-6.65 ----- Total Revenue: 1.7\n",
      "Day 47--No action was taken ----- Total Revenue: 1.7\n",
      "Day 48--The stock was BOUGHT, profit:27.95 ----- Total Revenue: 29.65\n",
      "Day 49--The stock was BOUGHT, profit:6.75 ----- Total Revenue: 36.4\n",
      "Day 50--The stock was BOUGHT, profit:0.7 ----- Total Revenue: 37.1\n",
      "Day 51--The stock was SOLD, profit:-15.1 ----- Total Revenue: 22.0\n",
      "Day 52--The stock was SOLD, profit:8.35 ----- Total Revenue: 30.35\n",
      "Day 53--No action was taken ----- Total Revenue: 30.35\n",
      "Day 54--The stock was SOLD, profit:-13.7 ----- Total Revenue: 16.65\n",
      "Day 55--The stock was SOLD, profit:-14.2 ----- Total Revenue: 2.45\n",
      "Day 56--The stock was SOLD, profit:-20.55 ----- Total Revenue: -18.1\n",
      "Day 57--The stock was SOLD, profit:2.05 ----- Total Revenue: -16.05\n",
      "Day 58--The stock was SOLD, profit:7.0 ----- Total Revenue: -9.05\n",
      "Day 59--The stock was SOLD, profit:-8.15 ----- Total Revenue: -17.2\n",
      "Day 60--The stock was SOLD, profit:33.5 ----- Total Revenue: 16.3\n",
      "Day 61--The stock was SOLD, profit:-15.1 ----- Total Revenue: 1.2\n",
      "Day 62--The stock was SOLD, profit:5.2 ----- Total Revenue: 6.4\n",
      "Day 63--The stock was BOUGHT, profit:12.1 ----- Total Revenue: 18.5\n",
      "Day 64--No action was taken ----- Total Revenue: 18.5\n",
      "Day 65--The stock was BOUGHT, profit:-28.2 ----- Total Revenue: -9.7\n",
      "Day 66--No action was taken ----- Total Revenue: -9.7\n",
      "Day 67--No action was taken ----- Total Revenue: -9.7\n",
      "Day 68--The stock was SOLD, profit:7.7 ----- Total Revenue: -2.0\n",
      "Day 69--The stock was SOLD, profit:-22.0 ----- Total Revenue: -24.0\n",
      "Day 70--The stock was BOUGHT, profit:19.25 ----- Total Revenue: -4.75\n",
      "Day 71--No action was taken ----- Total Revenue: -4.75\n",
      "Day 72--No action was taken ----- Total Revenue: -4.75\n"
     ]
    }
   ],
   "source": [
    "import numpy as np\n",
    "import gym\n",
    "\n",
    "if __name__ == '__main__':\n",
    "    env = CandleStickEnv()\n",
    "    n_days = 100\n",
    "    score = 0\n",
    "    observation = env.reset()\n",
    "    \n",
    "    done = True\n",
    "\n",
    "    agent = Agent(gamma=0.99, epsilon=1.0, alpha=0.005, input_dims=[200,300,4] , n_actions=3, mem_size=1000, batch_size=64, epsilon_end=0.01)\n",
    "\n",
    "    scores = []\n",
    "    eps_history = []\n",
    "\n",
    "    for i in range(n_days): #TODO is action taken too early?\n",
    "        action = agent.choose_action(observation)\n",
    "        observation_,reward, done, info= env.step(action)\n",
    "        print(f\"Day {i}--{info}\")\n",
    "        scores.append(reward)\n",
    "        agent.remember(observation, action, reward, observation_, done)\n",
    "        observation = observation_\n",
    "        agent.learn()\n",
    "\n",
    "        eps_history.append(agent.epsilon)\n",
    "\n",
    "        if i % 10 == 0 and i > 0 :\n",
    "            agent.save_model()\n",
    "\n",
    "    "
   ]
  },
  {
   "cell_type": "code",
   "execution_count": 3,
   "id": "683903d7",
   "metadata": {},
   "outputs": [
    {
     "data": {
      "text/plain": [
       "array([[[1., 1., 1., 0.],\n",
       "        [1., 1., 1., 0.],\n",
       "        [1., 1., 1., 0.],\n",
       "        ...,\n",
       "        [1., 1., 1., 0.],\n",
       "        [1., 1., 1., 0.],\n",
       "        [1., 1., 1., 0.]],\n",
       "\n",
       "       [[1., 1., 1., 0.],\n",
       "        [1., 1., 1., 0.],\n",
       "        [1., 1., 1., 0.],\n",
       "        ...,\n",
       "        [1., 1., 1., 0.],\n",
       "        [1., 1., 1., 0.],\n",
       "        [1., 1., 1., 0.]],\n",
       "\n",
       "       [[1., 1., 1., 0.],\n",
       "        [1., 1., 1., 0.],\n",
       "        [1., 1., 1., 0.],\n",
       "        ...,\n",
       "        [1., 1., 1., 0.],\n",
       "        [1., 1., 1., 0.],\n",
       "        [1., 1., 1., 0.]],\n",
       "\n",
       "       ...,\n",
       "\n",
       "       [[1., 1., 1., 0.],\n",
       "        [1., 1., 1., 0.],\n",
       "        [1., 1., 1., 0.],\n",
       "        ...,\n",
       "        [1., 1., 1., 0.],\n",
       "        [1., 1., 1., 0.],\n",
       "        [1., 1., 1., 0.]],\n",
       "\n",
       "       [[1., 1., 1., 0.],\n",
       "        [1., 1., 1., 0.],\n",
       "        [1., 1., 1., 0.],\n",
       "        ...,\n",
       "        [1., 1., 1., 0.],\n",
       "        [1., 1., 1., 0.],\n",
       "        [1., 1., 1., 0.]],\n",
       "\n",
       "       [[1., 1., 1., 0.],\n",
       "        [1., 1., 1., 0.],\n",
       "        [1., 1., 1., 0.],\n",
       "        ...,\n",
       "        [1., 1., 1., 0.],\n",
       "        [1., 1., 1., 0.],\n",
       "        [1., 1., 1., 0.]]], dtype=float32)"
      ]
     },
     "execution_count": 3,
     "metadata": {},
     "output_type": "execute_result"
    }
   ],
   "source": [
    "env = CandleStickEnv()\n",
    "env.reset()"
   ]
  },
  {
   "cell_type": "code",
   "execution_count": 4,
   "id": "5b52b9e6",
   "metadata": {},
   "outputs": [],
   "source": [
    "# observation_,reward, info = env.step(1)\n",
    "# imgplot = plt.imshow(observation_)\n",
    "# plt.show()"
   ]
  },
  {
   "cell_type": "code",
   "execution_count": 5,
   "id": "b65d863c",
   "metadata": {},
   "outputs": [
    {
     "name": "stdout",
     "output_type": "stream",
     "text": [
      "Day 1--The EQUITY is changing to: ASIANPAINT ----- Total Revenue: 0\n"
     ]
    }
   ],
   "source": [
    "observation_,reward, done, info= env.step(0)\n",
    "print(f\"Day 1--{info}\")"
   ]
  },
  {
   "cell_type": "code",
   "execution_count": 6,
   "id": "8cf09d24",
   "metadata": {},
   "outputs": [
    {
     "name": "stdout",
     "output_type": "stream",
     "text": [
      "Day 1--The stock was BOUGHT at price: 985 ----- Total Revenue: 0\n"
     ]
    }
   ],
   "source": [
    "observation_,reward, done, info= env.step(1)\n",
    "print(f\"Day 1--{info}\")"
   ]
  },
  {
   "cell_type": "code",
   "execution_count": 7,
   "id": "12c5c390",
   "metadata": {},
   "outputs": [
    {
     "name": "stdout",
     "output_type": "stream",
     "text": [
      "Day 1--The stock is HELD with action: 1 ----- Total Revenue: 0\n"
     ]
    }
   ],
   "source": [
    "observation_,reward, done, info= env.step(0)\n",
    "print(f\"Day 1--{info}\")"
   ]
  },
  {
   "cell_type": "code",
   "execution_count": 8,
   "id": "bc31a942",
   "metadata": {},
   "outputs": [
    {
     "name": "stdout",
     "output_type": "stream",
     "text": [
      "Day 1--The stock is HELD with action: 1 ----- Total Revenue: 0\n"
     ]
    }
   ],
   "source": [
    "observation_,reward, done, info= env.step(0)\n",
    "print(f\"Day 1--{info}\")"
   ]
  },
  {
   "cell_type": "code",
   "execution_count": 9,
   "id": "c2c9cae9",
   "metadata": {},
   "outputs": [
    {
     "name": "stdout",
     "output_type": "stream",
     "text": [
      "Day 1--The trade EXITS (Long) at 970 profit: -14.85 ----- Total Revenue: -14.85\n"
     ]
    }
   ],
   "source": [
    "observation_,reward, done, info= env.step(2)\n",
    "print(f\"Day 1--{info}\")"
   ]
  },
  {
   "cell_type": "code",
   "execution_count": 10,
   "id": "608b3d0c",
   "metadata": {},
   "outputs": [
    {
     "name": "stdout",
     "output_type": "stream",
     "text": [
      "Day 1--The stock was SOLD at price: 961 ----- Total Revenue: -14.85\n"
     ]
    }
   ],
   "source": [
    "observation_,reward, done, info= env.step(2)\n",
    "print(f\"Day 1--{info}\")"
   ]
  },
  {
   "cell_type": "code",
   "execution_count": 11,
   "id": "66414b52",
   "metadata": {},
   "outputs": [
    {
     "name": "stdout",
     "output_type": "stream",
     "text": [
      "Day 1--The stock is SOLD AGAIN ----- Total Revenue: -14.85\n"
     ]
    }
   ],
   "source": [
    "observation_,reward, done, info= env.step(2)\n",
    "print(f\"Day 1--{info}\")"
   ]
  },
  {
   "cell_type": "code",
   "execution_count": 12,
   "id": "3994c276",
   "metadata": {},
   "outputs": [
    {
     "name": "stdout",
     "output_type": "stream",
     "text": [
      "Day 1--The trade EXITS (short) at 992 profit: -61.4 ----- Total Revenue: -76.25\n"
     ]
    }
   ],
   "source": [
    "observation_,reward, done, info= env.step(1)\n",
    "print(f\"Day 1--{info}\")"
   ]
  },
  {
   "cell_type": "code",
   "execution_count": null,
   "id": "c47ad002",
   "metadata": {},
   "outputs": [],
   "source": []
  }
 ],
 "metadata": {
  "interpreter": {
   "hash": "953dee1a853867001d31f6f09d1363fd202430034b711c7e4c6f74431527cefa"
  },
  "kernelspec": {
   "display_name": "Python 3.8.8 ('base')",
   "language": "python",
   "name": "python3"
  },
  "language_info": {
   "codemirror_mode": {
    "name": "ipython",
    "version": 3
   },
   "file_extension": ".py",
   "mimetype": "text/x-python",
   "name": "python",
   "nbconvert_exporter": "python",
   "pygments_lexer": "ipython3",
   "version": "3.8.8"
  }
 },
 "nbformat": 4,
 "nbformat_minor": 5
}
